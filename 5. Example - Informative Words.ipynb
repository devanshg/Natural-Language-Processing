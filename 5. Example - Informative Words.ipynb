{
 "cells": [
  {
   "cell_type": "code",
   "execution_count": 1,
   "metadata": {},
   "outputs": [],
   "source": [
    "import nltk"
   ]
  },
  {
   "cell_type": "code",
   "execution_count": 2,
   "metadata": {},
   "outputs": [],
   "source": [
    "alice = nltk.corpus.gutenberg.words('carroll-alice.txt')"
   ]
  },
  {
   "cell_type": "code",
   "execution_count": 3,
   "metadata": {},
   "outputs": [],
   "source": [
    "alice_fd = nltk.FreqDist(alice)"
   ]
  },
  {
   "cell_type": "code",
   "execution_count": 4,
   "metadata": {},
   "outputs": [],
   "source": [
    "alice_fd_100 = alice_fd.most_common(100)"
   ]
  },
  {
   "cell_type": "code",
   "execution_count": 6,
   "metadata": {},
   "outputs": [],
   "source": [
    "moby = nltk.corpus.gutenberg.words('melville-moby_dick.txt')\n",
    "moby_fd = nltk.FreqDist(moby)\n",
    "moby_fd_100 = moby_fd.most_common(100)"
   ]
  },
  {
   "cell_type": "code",
   "execution_count": 13,
   "metadata": {},
   "outputs": [
    {
     "data": {
      "text/plain": [
       "[',', \"'\", 'the', 'and', '.', 'to', 'a', 'I', 'it', 'she']"
      ]
     },
     "execution_count": 13,
     "metadata": {},
     "output_type": "execute_result"
    }
   ],
   "source": [
    "alice_100 = [word[0] for word in alice_fd_100]\n",
    "alice_100[:10]"
   ]
  },
  {
   "cell_type": "code",
   "execution_count": 14,
   "metadata": {},
   "outputs": [],
   "source": [
    "moby_100 = [word[0] for word in moby_fd_100]"
   ]
  },
  {
   "cell_type": "code",
   "execution_count": 16,
   "metadata": {},
   "outputs": [
    {
     "data": {
      "text/plain": [
       "{\"!'\",\n",
       " '*',\n",
       " \",'\",\n",
       " \".'\",\n",
       " ':',\n",
       " \"?'\",\n",
       " 'Alice',\n",
       " 'Gryphon',\n",
       " 'Hatter',\n",
       " 'King',\n",
       " 'Mock',\n",
       " 'Queen',\n",
       " 'Turtle',\n",
       " 'again',\n",
       " 'began',\n",
       " 'can',\n",
       " 'could',\n",
       " 'did',\n",
       " 'do',\n",
       " 'herself',\n",
       " 'know',\n",
       " 'little',\n",
       " 'll',\n",
       " 'm',\n",
       " 'much',\n",
       " 'off',\n",
       " 'quite',\n",
       " 'said',\n",
       " 'say',\n",
       " 'see',\n",
       " 'she',\n",
       " 't',\n",
       " 'thought',\n",
       " 'way',\n",
       " 'went',\n",
       " 'your'}"
      ]
     },
     "execution_count": 16,
     "metadata": {},
     "output_type": "execute_result"
    }
   ],
   "source": [
    "set(alice_100) - set(moby_100)"
   ]
  },
  {
   "cell_type": "code",
   "execution_count": null,
   "metadata": {},
   "outputs": [],
   "source": []
  }
 ],
 "metadata": {
  "kernelspec": {
   "display_name": "Python 3",
   "language": "python",
   "name": "python3"
  },
  "language_info": {
   "codemirror_mode": {
    "name": "ipython",
    "version": 3
   },
   "file_extension": ".py",
   "mimetype": "text/x-python",
   "name": "python",
   "nbconvert_exporter": "python",
   "pygments_lexer": "ipython3",
   "version": "3.6.4"
  }
 },
 "nbformat": 4,
 "nbformat_minor": 2
}
