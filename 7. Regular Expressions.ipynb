{
 "cells": [
  {
   "cell_type": "markdown",
   "metadata": {},
   "source": [
    "## Important notations in Regular Expressions\n",
    "\n",
    "* ^ Start of string\n",
    "* $ End of string \n",
    "* . Wildcard character\n",
    "* [chr] Matches one or more character\n",
    "* [a-m] Matches one character in the range"
   ]
  },
  {
   "cell_type": "code",
   "execution_count": 1,
   "metadata": {},
   "outputs": [],
   "source": [
    "import nltk\n",
    "import re"
   ]
  },
  {
   "cell_type": "code",
   "execution_count": 2,
   "metadata": {},
   "outputs": [],
   "source": [
    "alice = nltk.corpus.gutenberg.words('carroll-alice.txt')"
   ]
  },
  {
   "cell_type": "markdown",
   "metadata": {},
   "source": [
    "### Words starting with 'new'"
   ]
  },
  {
   "cell_type": "code",
   "execution_count": 3,
   "metadata": {},
   "outputs": [
    {
     "data": {
      "text/plain": [
       "{'new', 'newspapers'}"
      ]
     },
     "execution_count": 3,
     "metadata": {},
     "output_type": "execute_result"
    }
   ],
   "source": [
    "set([word for word in alice if re.search('^new', word)])"
   ]
  },
  {
   "cell_type": "markdown",
   "metadata": {},
   "source": [
    "### Words ending with 'ful'"
   ]
  },
  {
   "cell_type": "code",
   "execution_count": 5,
   "metadata": {},
   "outputs": [
    {
     "data": {
      "text/plain": [
       "{'Beautiful',\n",
       " 'barrowful',\n",
       " 'beautiful',\n",
       " 'delightful',\n",
       " 'doubtful',\n",
       " 'dreadful',\n",
       " 'graceful',\n",
       " 'hopeful',\n",
       " 'mournful',\n",
       " 'ootiful',\n",
       " 'respectful',\n",
       " 'sorrowful',\n",
       " 'truthful',\n",
       " 'useful',\n",
       " 'wonderful'}"
      ]
     },
     "execution_count": 5,
     "metadata": {},
     "output_type": "execute_result"
    }
   ],
   "source": [
    "set([word for word in alice if re.search('ful$', word)])"
   ]
  },
  {
   "cell_type": "markdown",
   "metadata": {},
   "source": [
    "### Words which are 6 letters long and have 2 n's in the middle"
   ]
  },
  {
   "cell_type": "code",
   "execution_count": 6,
   "metadata": {},
   "outputs": [
    {
     "data": {
      "text/plain": [
       "{'cannot', 'dinner', 'fanned', 'manner', 'tunnel'}"
      ]
     },
     "execution_count": 6,
     "metadata": {},
     "output_type": "execute_result"
    }
   ],
   "source": [
    "set([word for word in alice if re.search('^..nn..$', word)])"
   ]
  },
  {
   "cell_type": "markdown",
   "metadata": {},
   "source": [
    "### Words ending with 'at' which start with either 'c', 'h' or 'r'"
   ]
  },
  {
   "cell_type": "code",
   "execution_count": 17,
   "metadata": {},
   "outputs": [
    {
     "data": {
      "text/plain": [
       "{'cat', 'hat', 'rat'}"
      ]
     },
     "execution_count": 17,
     "metadata": {},
     "output_type": "execute_result"
    }
   ],
   "source": [
    "set([word for word in alice if re.search('^[chr]at$', word)])"
   ]
  },
  {
   "cell_type": "markdown",
   "metadata": {},
   "source": [
    "### Words containing the string 'nn'"
   ]
  },
  {
   "cell_type": "code",
   "execution_count": 9,
   "metadata": {},
   "outputs": [
    {
     "data": {
      "text/plain": [
       "{'Ann',\n",
       " 'Dinn',\n",
       " 'Pennyworth',\n",
       " 'annoy',\n",
       " 'annoyed',\n",
       " 'beginning',\n",
       " 'cannot',\n",
       " 'cunning',\n",
       " 'dinn',\n",
       " 'dinner',\n",
       " 'fanned',\n",
       " 'fanning',\n",
       " 'funny',\n",
       " 'grinned',\n",
       " 'grinning',\n",
       " 'manner',\n",
       " 'manners',\n",
       " 'planning',\n",
       " 'running',\n",
       " 'tunnel'}"
      ]
     },
     "execution_count": 9,
     "metadata": {},
     "output_type": "execute_result"
    }
   ],
   "source": [
    "set([word for word in alice if re.search('^.*nn.*$', word)])"
   ]
  },
  {
   "cell_type": "markdown",
   "metadata": {},
   "source": [
    "### Second letter is 'c' and ends with 'y'"
   ]
  },
  {
   "cell_type": "code",
   "execution_count": 10,
   "metadata": {},
   "outputs": [
    {
     "data": {
      "text/plain": [
       "{'accidentally', 'actually', 'occasionally', 'scaly'}"
      ]
     },
     "execution_count": 10,
     "metadata": {},
     "output_type": "execute_result"
    }
   ],
   "source": [
    "set([word for word in alice if re.search('^.c.*y$', word)])"
   ]
  },
  {
   "cell_type": "code",
   "execution_count": null,
   "metadata": {},
   "outputs": [],
   "source": []
  }
 ],
 "metadata": {
  "kernelspec": {
   "display_name": "Python 3",
   "language": "python",
   "name": "python3"
  },
  "language_info": {
   "codemirror_mode": {
    "name": "ipython",
    "version": 3
   },
   "file_extension": ".py",
   "mimetype": "text/x-python",
   "name": "python",
   "nbconvert_exporter": "python",
   "pygments_lexer": "ipython3",
   "version": "3.6.4"
  }
 },
 "nbformat": 4,
 "nbformat_minor": 2
}
