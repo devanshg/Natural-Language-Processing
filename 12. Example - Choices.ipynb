{
 "cells": [
  {
   "cell_type": "markdown",
   "metadata": {},
   "source": [
    "### Find all instances of 'NOUN or NOUN' occurring in the book 'bryant-stories'."
   ]
  },
  {
   "cell_type": "code",
   "execution_count": 1,
   "metadata": {},
   "outputs": [],
   "source": [
    "import nltk"
   ]
  },
  {
   "cell_type": "code",
   "execution_count": 2,
   "metadata": {},
   "outputs": [],
   "source": [
    "br = nltk.corpus.gutenberg.words('bryant-stories.txt')"
   ]
  },
  {
   "cell_type": "code",
   "execution_count": 11,
   "metadata": {},
   "outputs": [],
   "source": [
    "br_norm = [word.lower() for word in br if word.isalpha()]"
   ]
  },
  {
   "cell_type": "code",
   "execution_count": 12,
   "metadata": {},
   "outputs": [],
   "source": [
    "br_tags = nltk.pos_tag(br_norm, tagset='universal')"
   ]
  },
  {
   "cell_type": "code",
   "execution_count": 34,
   "metadata": {},
   "outputs": [
    {
     "name": "stdout",
     "output_type": "stream",
     "text": [
      "ship or part\n",
      "rest or food\n",
      "food or clothes\n",
      "food or water\n",
      "queens or princesses\n",
      "catholics or protestants\n",
      "door or driving\n",
      "rank or wealth\n"
     ]
    }
   ],
   "source": [
    "for ((word1,tag1), (word2,tag2), (word3,tag3)) in nltk.trigrams(br_tags):\n",
    "    if ((tag1 == 'NOUN') & (word2 == 'or') & (tag3 == 'NOUN')):\n",
    "        print(word1, word2, word3)"
   ]
  },
  {
   "cell_type": "code",
   "execution_count": null,
   "metadata": {},
   "outputs": [],
   "source": []
  }
 ],
 "metadata": {
  "kernelspec": {
   "display_name": "Python 3",
   "language": "python",
   "name": "python3"
  },
  "language_info": {
   "codemirror_mode": {
    "name": "ipython",
    "version": 3
   },
   "file_extension": ".py",
   "mimetype": "text/x-python",
   "name": "python",
   "nbconvert_exporter": "python",
   "pygments_lexer": "ipython3",
   "version": "3.6.4"
  }
 },
 "nbformat": 4,
 "nbformat_minor": 2
}
